{
 "cells": [
  {
   "cell_type": "code",
   "execution_count": 1,
   "metadata": {
    "id": "gNax_xPWGFd4"
   },
   "outputs": [],
   "source": [
    "from bs4 import BeautifulSoup\n",
    "import requests\n",
    "import pandas as pd\n",
    "from datetime import datetime\n",
    "import json"
   ]
  },
  {
   "cell_type": "code",
   "execution_count": 2,
   "metadata": {
    "id": "YX_5db9BGUet"
   },
   "outputs": [],
   "source": [
    "#Reddit API credentials\n",
    "CLIENT_ID = 'YOURCLIENTID'\n",
    "CLIENT_SECRET = 'YOURCLIENTSECRET'\n",
    "USER_AGENT = 'Mozilla/5.0 (Windows NT 10.0; Win64; x64) AppleWebKit/537.36 (KHTML, like Gecko) Chrome/126.0.0.0 Safari/537.36'\n",
    "USERNAME = 'username '\n",
    "PASSWORD = 'password'\n"
   ]
  },
  {
   "cell_type": "code",
   "execution_count": 3,
   "metadata": {
    "id": "tA1-78HPV7aE"
   },
   "outputs": [],
   "source": [
    "url = 'https://oauth.reddit.com/r/StopGaming/new'"
   ]
  },
  {
   "cell_type": "code",
   "execution_count": 4,
   "metadata": {
    "id": "9IRHAXv9WKOK"
   },
   "outputs": [],
   "source": [
    "# Create a session\n",
    "session = requests.Session()"
   ]
  },
  {
   "cell_type": "code",
   "execution_count": 5,
   "metadata": {
    "id": "xpZ5tJuXWEpI"
   },
   "outputs": [],
   "source": [
    "# Get the access token\n",
    "auth = requests.auth.HTTPBasicAuth(CLIENT_ID, CLIENT_SECRET)"
   ]
  },
  {
   "cell_type": "code",
   "execution_count": 6,
   "metadata": {
    "id": "MNRurlKpWmQr"
   },
   "outputs": [],
   "source": [
    "data = {\n",
    "    'grant_type': 'password',\n",
    "    'username': USERNAME,\n",
    "    'password': PASSWORD\n",
    "}\n",
    "headers = {'User-Agent': USER_AGENT}"
   ]
  },
  {
   "cell_type": "code",
   "execution_count": 7,
   "metadata": {
    "id": "QthfqX0EVdUx"
   },
   "outputs": [],
   "source": [
    "res = session.post('https://www.reddit.com/api/v1/access_token', auth=auth, data=data, headers=headers)\n",
    "token = res.json()['access_token']\n",
    "headers['Authorization'] = f'bearer {token}'"
   ]
  },
  {
   "cell_type": "code",
   "execution_count": 8,
   "metadata": {
    "id": "UV9xFwqod26j"
   },
   "outputs": [],
   "source": [
    "params = {'limit': 20}"
   ]
  },
  {
   "cell_type": "code",
   "execution_count": 9,
   "metadata": {
    "id": "pY85WVKNVhlT"
   },
   "outputs": [],
   "source": [
    "res = session.get(url, headers=headers, params=params)"
   ]
  },
  {
   "cell_type": "code",
   "execution_count": 10,
   "metadata": {
    "id": "hg0lYcNFd6GC"
   },
   "outputs": [],
   "source": [
    "soup = BeautifulSoup(res.content)"
   ]
  },
  {
   "cell_type": "code",
   "execution_count": 11,
   "metadata": {
    "id": "vphY3VC0ftZy"
   },
   "outputs": [],
   "source": [
    "json_data = json.loads(soup.find_all('p')[0].text)"
   ]
  },
  {
   "cell_type": "code",
   "execution_count": 12,
   "metadata": {
    "id": "J_iFV5G9gkhF"
   },
   "outputs": [],
   "source": [
    "posts = json_data['data']['children']"
   ]
  },
  {
   "cell_type": "code",
   "execution_count": 13,
   "metadata": {
    "id": "Lf6zWlDmiOJE"
   },
   "outputs": [],
   "source": [
    "posts_data = []"
   ]
  },
  {
   "cell_type": "code",
   "execution_count": 14,
   "metadata": {
    "colab": {
     "base_uri": "https://localhost:8080/"
    },
    "id": "lGom_QWhhtIQ",
    "outputId": "6b548d3b-b7aa-47b5-becd-ce88b15e8362"
   },
   "outputs": [
    {
     "name": "stdout",
     "output_type": "stream",
     "text": [
      "Title: How did you guys finally pull the plug? \n",
      "Date: 2024-07-18 09:43:53\n",
      "Description: Everything in my mind tells me i need to pull it. Even when I try to think around it I still always end up back at the same conclusion. i am addicted. I'm slowing allowing myself to be killed right in front of my eyes, and yet I can't seem to do anything about it. So how did you do it, how did you pull the plug?\n",
      "Upvotes: 2\n",
      "Upvote Ratio: 1.0\n",
      "Link: https://www.reddit.com/r/StopGaming/comments/1e627eu/how_did_you_guys_finally_pull_the_plug/\n",
      "\n",
      "\n",
      "Title: 35 year old brother has been addicted to video games for years\n",
      "Date: 2024-07-18 09:16:16\n",
      "Description: I hope it's alright to post this here, I just wanted to ask for any advice or insight on how to approach this. My brother is 5 years older than me and has always enjoyed games, however since graduating college he has only applied for a couple of jobs (with the urging of our parents) that unfortunately didn't pan out, and hasn't worked ever since. My mom has gotten him to do some work as a subcontractor/freelancer on her client projects here and there (video editing and motion graphics), but otherwise he hasn't applied for a job for over a\n",
      "Upvotes: 1\n",
      "Upvote Ratio: 1.0\n",
      "Link: https://www.reddit.com/r/StopGaming/comments/1e61phu/35_year_old_brother_has_been_addicted_to_video/\n",
      "\n",
      "\n",
      "Title: Isn't gaming bad even if you are a successful streamer or esportler?\n",
      "Date: 2024-07-18 05:56:21\n",
      "Description: I'm a 18 yo male and I'm basically in the middle of turning my life around and finding myself. I told myself that I won't play videogames again if it won't be on twitch or youtube or on a big flatscreen in a penthouse with my future girlfriend or homies (even then rarely). But if you think about it, isn't even streaming videogames a bad thing, even if you make tons of money? The people that are watching you are basically wasting their time. You could compare it to selling cigarettes. You become rich at the cost of others health.\n",
      "Upvotes: 4\n",
      "Upvote Ratio: 0.83\n",
      "Link: https://www.reddit.com/r/StopGaming/comments/1e5xoyz/isnt_gaming_bad_even_if_you_are_a_successful/\n",
      "\n",
      "\n",
      "Title: 4 months without gaming (especially Factorio!)\n",
      "Date: 2024-07-18 03:13:32\n",
      "Description: I am M30 and have been playing video games since I was a little kid. I loved exploring virtual worlds and doing whatever I wanted without having to face the consequences. I realized that it's different in reality: I have responsibilities. I have a job. And I have more important things to do and can no longer afford to waste my time. Someone gave me Factorio for Christmas and I was immediately taken by it. “The factory must grow,” I used to tell myself. I just had to get it done quickly and an hour had passed. One problem created\n",
      "Upvotes: 4\n",
      "Upvote Ratio: 1.0\n",
      "Link: https://www.reddit.com/r/StopGaming/comments/1e5twu8/4_months_without_gaming_especially_factorio/\n",
      "\n",
      "\n",
      "Title: Gaming addiction has been controlling me for years now\n",
      "Date: 2024-07-18 00:59:10\n",
      "Description: Hey guys. So I recently joined this subreddit and I was surprised something like this even existed, even more surprised that people are having similar experiences that I am I'm 26m and I'm studying abroad far away from home, I'm in my final year for engineering but I've been casually getting by. I've always loved gaming, and I've been gaming since I was a kid. Cause of this, my current friend group of 5 years hobby is gaming. It's aways been something of a love hate relationship, because on one hand I really enjoy gaming, but on the other hand\n",
      "Upvotes: 4\n",
      "Upvote Ratio: 1.0\n",
      "Link: https://www.reddit.com/r/StopGaming/comments/1e5qnhv/gaming_addiction_has_been_controlling_me_for/\n",
      "\n",
      "\n",
      "Title: Sitting on your butt for work? Nope. Gaming? Yup…\n",
      "Date: 2024-07-17 22:03:15\n",
      "Description: My issue is that I like how gaming brings me to another world. It’s an escape. I know I have “ADHD” and wish I could just live more according to my nature which would be more of a hunter gatherer lifestyle or something. I am happy when I’m out doing wildlife photography, painting plein air, identifying species, etc. I don’t like the world as it is. I can’t sit still and am tired of my adderall as it doesn’t work well with my variable blood pressure. The only time just sitting on my arse for extended periods doesn’t seem to\n",
      "Upvotes: 3\n",
      "Upvote Ratio: 0.8\n",
      "Link: https://www.reddit.com/r/StopGaming/comments/1e5ma8l/sitting_on_your_butt_for_work_nope_gaming_yup/\n",
      "\n",
      "\n",
      "Title: Low effort meme\n",
      "Date: 2024-07-17 20:31:16\n",
      "Description: \n",
      "Upvotes: 10\n",
      "Upvote Ratio: 0.86\n",
      "Link: https://i.redd.it/cgvztziad3dd1.jpeg\n",
      "\n",
      "\n",
      "Title: Guilt over wasted time is stupid, and here’s why\n",
      "Date: 2024-07-17 20:17:03\n",
      "Description: Like many of you i just quit gaming (mainly my drug of choice League of Legends ranked) The past 3-4 months i have had a depressive episode that snowballed hard until i buried my head in league just to have a distraction. Then this distraction spiraled out of control. Instead of working, and doing all the responsibilities that i needed/loved to do, i became the stereotypical gamer buried in trash , energy drinks, lack of hygiene. I even gained a lot of weight when previously I loved the gym and worked out almost daily. I tend to have depressive episodes,\n",
      "Upvotes: 12\n",
      "Upvote Ratio: 0.94\n",
      "Link: https://www.reddit.com/r/StopGaming/comments/1e5jnwe/guilt_over_wasted_time_is_stupid_and_heres_why/\n",
      "\n",
      "\n",
      "Title: Over two weeks without video games! Woohoo!!! 🥳🎉\n",
      "Date: 2024-07-17 20:16:36\n",
      "Description: I don't feel no urge to play video games no more. I haven't spent my 💸 on DLC's or battle passes, either. Anyways, an app shown on the screenshot is called I Am Sober. 😊\n",
      "Upvotes: 33\n",
      "Upvote Ratio: 1.0\n",
      "Link: https://i.redd.it/f21sjn7oa3dd1.png\n",
      "\n",
      "\n",
      "Title: Just got a huge wake up call out of nowhere.\n",
      "Date: 2024-07-17 11:20:52\n",
      "Description: I've been gaming for 6+ hours a day on my pc lately, and got a huge realization out of nowhere. What am I gaining from playing video games? I play single player so it's not like I'm besting others in a multiplayer game. 24 and still no job, it's time for me to wake up to reality. Go harder on finding a job, try to reconnect with old highschool friends, connect with my family more. Gaming is fun, but I feel like it's holding me back. Is it still OK to come back to it once i have my priorities\n",
      "Upvotes: 26\n",
      "Upvote Ratio: 0.96\n",
      "Link: https://www.reddit.com/r/StopGaming/comments/1e5aezk/just_got_a_huge_wake_up_call_out_of_nowhere/\n",
      "\n",
      "\n",
      "Title: Hello Guys\n",
      "Date: 2024-07-17 09:50:54\n",
      "Description: I always wanted to quit gaming , but at the next day I will end up playing all the time, after playing I feel guilty .I don't know what to do and What is wrong with me. Gaming literally changed my life . I am not able to focus on my work and my career. I want to improve my productivity by removing this gaming addiction but unable to do. I have tried below mentioned steps as well but didn't work for me. 1)I tried to Uninstall the game and decided not to play anymore but ended up in installing\n",
      "Upvotes: 4\n",
      "Upvote Ratio: 0.84\n",
      "Link: https://www.reddit.com/r/StopGaming/comments/1e58v4r/hello_guys/\n",
      "\n",
      "\n",
      "Title: Day 2\n",
      "Date: 2024-07-17 08:10:00\n",
      "Description: Went to the gym, I am reading a book. Very bored but much more satisfied. This is very hard good lord. But my days are longer and more memorable. I am 30 now. Hi a break in my mid 20's and have been pseudo retired. And decided to game in that time. Dear lord I don't hate gaming but I don't think I want to dedicate my life to it anymore like I used to. I have no telationships(very little and poorly maintained) and I fall behind on everything from house work to appointments for things because often I am\n",
      "Upvotes: 3\n",
      "Upvote Ratio: 0.8\n",
      "Link: https://www.reddit.com/r/StopGaming/comments/1e56xgp/day_2/\n",
      "\n",
      "\n",
      "Title: Curious about how many people with this issue actually wanted a career out of gaming. \n",
      "Date: 2024-07-17 06:41:33\n",
      "Description: I am actually curious. Whether it was game design, streaming or working in the industry, if there were many going through this with a dream of gaming in their future. I’m seeing the majority like me, who have different aspirations in life, or no desire for a gaming career. Unfortunately I’m seeing the majority have different goals in life and get sucked into this life crack.\n",
      "Upvotes: 12\n",
      "Upvote Ratio: 0.93\n",
      "Link: https://www.reddit.com/r/StopGaming/comments/1e553xk/curious_about_how_many_people_with_this_issue/\n",
      "\n",
      "\n",
      "Title: Dont quit cold turkey! My opinion on the matter (with experience)\n",
      "Date: 2024-07-17 03:59:43\n",
      "Description: Whats up everybody! Just wanted to share my experience with you all! I see that a looooot of people here want to quit gaming cold turkey because of multiple reasons, mainly time waste and the feeling of guilt that comes with it. Im here to tell you to take your time with it. I have been lurking here and I have made multiple posts on alts about wanting to quit cold turkey since everyone else did. I even broke my gaming laptop to stop playing video games. Well fast forward a few years and I have another one with the\n",
      "Upvotes: 6\n",
      "Upvote Ratio: 0.62\n",
      "Link: https://www.reddit.com/r/StopGaming/comments/1e51isn/dont_quit_cold_turkey_my_opinion_on_the_matter/\n",
      "\n",
      "\n",
      "Title: I want to game again\n",
      "Date: 2024-07-16 08:48:06\n",
      "Description: I’ll try to make this blunt. I quit my games and deleted all my game files about a month ago. Rocket league, terraria/tmod loader, and geometry dash were my main games. Sounds like a weird set of games but those were the games that I mainly grew up on. I also played a bunch of other side games but those were the ones I had the most fun on. I recently finished high school and got an apprenticeship to become an electrician (four year program). I work for a labour electrician company from Monday-Friday starting at 7am and ending around\n",
      "Upvotes: 6\n",
      "Upvote Ratio: 1.0\n",
      "Link: https://www.reddit.com/r/StopGaming/comments/1e4e409/i_want_to_game_again/\n",
      "\n",
      "\n",
      "Title: I've been gaming since I was six. I am quitting for good at 33. To bridge this transition, I am thinking about designing a \"life game\".\n",
      "Date: 2024-07-16 05:21:21\n",
      "Description: My relationship with gaming has been a rocky one. For most of this time I have been a functional adult. I got done with what I needed to do in my day, but recently, it started taking over my life. I decided to go back to school a couple of years back. I am in a demanding major that requires me to study A LOT. And I have been getting by with OK grades despite spending an average of 20+ hours a week on games alone. I am in my junior year of electrical engineering and I am looking at\n",
      "Upvotes: 12\n",
      "Upvote Ratio: 1.0\n",
      "Link: https://www.reddit.com/r/StopGaming/comments/1e49sin/ive_been_gaming_since_i_was_six_i_am_quitting_for/\n",
      "\n",
      "\n",
      "Title: This has me laughing soo hard\n",
      "Date: 2024-07-15 22:26:51\n",
      "Description: \n",
      "Upvotes: 76\n",
      "Upvote Ratio: 0.97\n",
      "Link: https://i.redd.it/1r9mgfx2opcd1.jpeg\n",
      "\n",
      "\n",
      "Title: Just chilling after work instead of gaming\n",
      "Date: 2024-07-15 16:08:34\n",
      "Description: \n",
      "Upvotes: 110\n",
      "Upvote Ratio: 1.0\n",
      "Link: https://i.redd.it/ny829fjrmrk51.jpg\n",
      "\n",
      "\n",
      "Title: Gaming addiction ruining relationship \n",
      "Date: 2024-07-15 09:43:35\n",
      "Description: My bf of 5 years is 32 and has a legitimate gaming addiction. Up to 45 hours a week. He sacrifices sleep to game all night and often oversleeps and is late for work. I complain often about the Xbox but if he's not on the Xbox he's on his phone doing mobile gaming. Are there legitimate places to go for help? He is willing. So he says. How can I help him start this process? He admits he has an addictive personality and he's damaged from growing up in a dysfunctional family, has been gaming since he was 12,\n",
      "Upvotes: 19\n",
      "Upvote Ratio: 0.92\n",
      "Link: https://www.reddit.com/r/StopGaming/comments/1e3lg3u/gaming_addiction_ruining_relationship/\n",
      "\n",
      "\n",
      "Title: Im almost 17m and play up to 20 hours a day. I need help.\n",
      "Date: 2024-07-15 06:33:27\n",
      "Description: Since I was 8 years old I've been playing games and gaming has always affected me badly. I was bullied in school heavily because I was exactly the gamer outsider nerd that wasn't even a nerd because he rarely got good grades in school. My own ''friends\" even picked on me back then. The period from 5th to 7th grade was the worst in my life because the bullying drastically SPIKED and I didn't have a good support structure at home because my dad and mom were divorced, dad was never around and he wasn't a good role model anyway\n",
      "Upvotes: 12\n",
      "Upvote Ratio: 0.93\n",
      "Link: https://www.reddit.com/r/StopGaming/comments/1e3htqa/im_almost_17m_and_play_up_to_20_hours_a_day_i/\n",
      "\n",
      "\n"
     ]
    }
   ],
   "source": [
    "for i in posts:\n",
    "    data = i['data']\n",
    "    title = data.get('title', 'No Title')\n",
    "    date = datetime.fromtimestamp(data.get('created_utc', 0)).strftime('%Y-%m-%d %H:%M:%S')\n",
    "    description = data.get('selftext', 'No Description')\n",
    "    truncated_description = ' '.join(description.split()[:100])  # Truncate to 100 words\n",
    "    upvotes = data.get('ups', 'No Upvotes')\n",
    "    upvote_ratio = data.get('upvote_ratio', 'No Upvote Ratio')\n",
    "    link = data.get('url', 'No URL')\n",
    "    \n",
    "    print(f\"Title: {title}\")\n",
    "    print(f\"Date: {date}\")\n",
    "    print(f\"Description: {truncated_description}\")\n",
    "    print(f\"Upvotes: {upvotes}\")\n",
    "    print(f\"Upvote Ratio: {upvote_ratio}\")\n",
    "    print(f\"Link: {link}\")\n",
    "    print(\"\\n\")\n",
    "    \n",
    "    posts_data.append({\n",
    "        'Title': title,\n",
    "        'Date Posted': date,\n",
    "        'Description': truncated_description,\n",
    "        'Upvotes': upvotes,\n",
    "        'Upvote Ratio': upvote_ratio,\n",
    "        'Link': link\n",
    "    })"
   ]
  },
  {
   "cell_type": "code",
   "execution_count": 15,
   "metadata": {},
   "outputs": [],
   "source": [
    "posts_df = pd.DataFrame(posts_data)"
   ]
  },
  {
   "cell_type": "code",
   "execution_count": 16,
   "metadata": {},
   "outputs": [
    {
     "data": {
      "text/html": [
       "<div>\n",
       "<style scoped>\n",
       "    .dataframe tbody tr th:only-of-type {\n",
       "        vertical-align: middle;\n",
       "    }\n",
       "\n",
       "    .dataframe tbody tr th {\n",
       "        vertical-align: top;\n",
       "    }\n",
       "\n",
       "    .dataframe thead th {\n",
       "        text-align: right;\n",
       "    }\n",
       "</style>\n",
       "<table border=\"1\" class=\"dataframe\">\n",
       "  <thead>\n",
       "    <tr style=\"text-align: right;\">\n",
       "      <th></th>\n",
       "      <th>Title</th>\n",
       "      <th>Date Posted</th>\n",
       "      <th>Description</th>\n",
       "      <th>Upvotes</th>\n",
       "      <th>Upvote Ratio</th>\n",
       "      <th>Link</th>\n",
       "    </tr>\n",
       "  </thead>\n",
       "  <tbody>\n",
       "    <tr>\n",
       "      <th>0</th>\n",
       "      <td>How did you guys finally pull the plug?</td>\n",
       "      <td>2024-07-18 09:43:53</td>\n",
       "      <td>Everything in my mind tells me i need to pull ...</td>\n",
       "      <td>2</td>\n",
       "      <td>1.00</td>\n",
       "      <td>https://www.reddit.com/r/StopGaming/comments/1...</td>\n",
       "    </tr>\n",
       "    <tr>\n",
       "      <th>1</th>\n",
       "      <td>35 year old brother has been addicted to video...</td>\n",
       "      <td>2024-07-18 09:16:16</td>\n",
       "      <td>I hope it's alright to post this here, I just ...</td>\n",
       "      <td>1</td>\n",
       "      <td>1.00</td>\n",
       "      <td>https://www.reddit.com/r/StopGaming/comments/1...</td>\n",
       "    </tr>\n",
       "    <tr>\n",
       "      <th>2</th>\n",
       "      <td>Isn't gaming bad even if you are a successful ...</td>\n",
       "      <td>2024-07-18 05:56:21</td>\n",
       "      <td>I'm a 18 yo male and I'm basically in the midd...</td>\n",
       "      <td>4</td>\n",
       "      <td>0.83</td>\n",
       "      <td>https://www.reddit.com/r/StopGaming/comments/1...</td>\n",
       "    </tr>\n",
       "    <tr>\n",
       "      <th>3</th>\n",
       "      <td>4 months without gaming (especially Factorio!)</td>\n",
       "      <td>2024-07-18 03:13:32</td>\n",
       "      <td>I am M30 and have been playing video games sin...</td>\n",
       "      <td>4</td>\n",
       "      <td>1.00</td>\n",
       "      <td>https://www.reddit.com/r/StopGaming/comments/1...</td>\n",
       "    </tr>\n",
       "    <tr>\n",
       "      <th>4</th>\n",
       "      <td>Gaming addiction has been controlling me for y...</td>\n",
       "      <td>2024-07-18 00:59:10</td>\n",
       "      <td>Hey guys. So I recently joined this subreddit ...</td>\n",
       "      <td>4</td>\n",
       "      <td>1.00</td>\n",
       "      <td>https://www.reddit.com/r/StopGaming/comments/1...</td>\n",
       "    </tr>\n",
       "  </tbody>\n",
       "</table>\n",
       "</div>"
      ],
      "text/plain": [
       "                                               Title          Date Posted  \\\n",
       "0           How did you guys finally pull the plug?   2024-07-18 09:43:53   \n",
       "1  35 year old brother has been addicted to video...  2024-07-18 09:16:16   \n",
       "2  Isn't gaming bad even if you are a successful ...  2024-07-18 05:56:21   \n",
       "3     4 months without gaming (especially Factorio!)  2024-07-18 03:13:32   \n",
       "4  Gaming addiction has been controlling me for y...  2024-07-18 00:59:10   \n",
       "\n",
       "                                         Description  Upvotes  Upvote Ratio  \\\n",
       "0  Everything in my mind tells me i need to pull ...        2          1.00   \n",
       "1  I hope it's alright to post this here, I just ...        1          1.00   \n",
       "2  I'm a 18 yo male and I'm basically in the midd...        4          0.83   \n",
       "3  I am M30 and have been playing video games sin...        4          1.00   \n",
       "4  Hey guys. So I recently joined this subreddit ...        4          1.00   \n",
       "\n",
       "                                                Link  \n",
       "0  https://www.reddit.com/r/StopGaming/comments/1...  \n",
       "1  https://www.reddit.com/r/StopGaming/comments/1...  \n",
       "2  https://www.reddit.com/r/StopGaming/comments/1...  \n",
       "3  https://www.reddit.com/r/StopGaming/comments/1...  \n",
       "4  https://www.reddit.com/r/StopGaming/comments/1...  "
      ]
     },
     "execution_count": 16,
     "metadata": {},
     "output_type": "execute_result"
    }
   ],
   "source": [
    "posts_df.head()"
   ]
  },
  {
   "cell_type": "code",
   "execution_count": 17,
   "metadata": {},
   "outputs": [],
   "source": [
    "posts_df.to_csv('redditScrapedData.csv', index=False)"
   ]
  }
 ],
 "metadata": {
  "colab": {
   "provenance": []
  },
  "kernelspec": {
   "display_name": "Python 3 (ipykernel)",
   "language": "python",
   "name": "python3"
  },
  "language_info": {
   "codemirror_mode": {
    "name": "ipython",
    "version": 3
   },
   "file_extension": ".py",
   "mimetype": "text/x-python",
   "name": "python",
   "nbconvert_exporter": "python",
   "pygments_lexer": "ipython3",
   "version": "3.11.5"
  }
 },
 "nbformat": 4,
 "nbformat_minor": 1
}
